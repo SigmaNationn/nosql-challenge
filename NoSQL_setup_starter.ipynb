{
 "cells": [
  {
   "cell_type": "markdown",
   "id": "9a57c4c6",
   "metadata": {},
   "source": [
    "# Eat Safe, Love"
   ]
  },
  {
   "cell_type": "markdown",
   "id": "064ef857",
   "metadata": {},
   "source": [
    "## Part 1: Database and Jupyter Notebook Set Up"
   ]
  },
  {
   "cell_type": "markdown",
   "id": "664e3c1f",
   "metadata": {},
   "source": [
    "Import the data provided in the `establishments.json` file from your Terminal. Name the database `uk_food` and the collection `establishments`.\n",
    "\n",
    "Within this markdown cell, copy the line of text you used to import the data from your Terminal. This way, future analysts will be able to repeat your process.\n",
    "\n",
    "e.g.: Import the dataset with `YOUR IMPORT TEXT HERE`"
   ]
  },
  {
   "cell_type": "code",
   "execution_count": 1,
   "id": "3ecdd008",
   "metadata": {},
   "outputs": [
    {
     "ename": "ModuleNotFoundError",
     "evalue": "No module named 'pymongo'",
     "output_type": "error",
     "traceback": [
      "\u001b[0;31m---------------------------------------------------------------------------\u001b[0m",
      "\u001b[0;31mModuleNotFoundError\u001b[0m                       Traceback (most recent call last)",
      "Cell \u001b[0;32mIn[1], line 2\u001b[0m\n\u001b[1;32m      1\u001b[0m \u001b[38;5;66;03m# Import dependencies\u001b[39;00m\n\u001b[0;32m----> 2\u001b[0m \u001b[38;5;28;01mfrom\u001b[39;00m \u001b[38;5;21;01mpymongo\u001b[39;00m \u001b[38;5;28;01mimport\u001b[39;00m MongoClient\n\u001b[1;32m      3\u001b[0m \u001b[38;5;28;01mfrom\u001b[39;00m \u001b[38;5;21;01mpprint\u001b[39;00m \u001b[38;5;28;01mimport\u001b[39;00m pprint\n",
      "\u001b[0;31mModuleNotFoundError\u001b[0m: No module named 'pymongo'"
     ]
    }
   ],
   "source": [
    "# Import dependencies\n",
    "from pymongo import MongoClient\n",
    "from pprint import pprint"
   ]
  },
  {
   "cell_type": "code",
   "execution_count": null,
   "id": "3d40d025",
   "metadata": {},
   "outputs": [],
   "source": [
    "!pip install pymongo"
   ]
  },
  {
   "cell_type": "code",
   "execution_count": null,
   "id": "59390c4a",
   "metadata": {},
   "outputs": [],
   "source": [
    "# Create an instance of MongoClient\n",
    "mongo = MongoClient(port=27017)"
   ]
  },
  {
   "cell_type": "code",
   "execution_count": null,
   "id": "71e373c1",
   "metadata": {},
   "outputs": [],
   "source": [
    "# Access the specified database or create it if it doesn't exist\n",
    "db = mongo['uk_food']\n",
    "\n",
    "# Confirm that the database exists\n",
    "print(f\"Connected to the '{db}' database.\")\n"
   ]
  },
  {
   "cell_type": "code",
   "execution_count": null,
   "id": "ef1b89ed",
   "metadata": {},
   "outputs": [],
   "source": [
    "# review the collections in our new database\n",
    "collections = db.list_collection_names()\n",
    "\n",
    "# Print the collections\n",
    "print(\"Collections in 'uk_food' database:\", collections)"
   ]
  },
  {
   "cell_type": "code",
   "execution_count": null,
   "id": "18ab463c",
   "metadata": {},
   "outputs": [],
   "source": [
    "print(\"List of databases:\")\n",
    "pprint(mongo.list_database_names())"
   ]
  },
  {
   "cell_type": "code",
   "execution_count": null,
   "id": "6a0d92df",
   "metadata": {},
   "outputs": [],
   "source": [
    "# review a document in the establishments collection\n",
    "establishments_collection = db['establishments']\n",
    "document = establishments_collection.find_one()\n",
    "print(\"\\nOne document from the establishments collection:\")\n",
    "pprint(document)"
   ]
  },
  {
   "cell_type": "code",
   "execution_count": null,
   "id": "11c9f11b",
   "metadata": {},
   "outputs": [],
   "source": [
    "# assign the collection to a variable\n",
    "establishments = db['establishments']\n"
   ]
  },
  {
   "cell_type": "markdown",
   "id": "d5671434",
   "metadata": {},
   "source": [
    "## Part 2: Update the Database"
   ]
  },
  {
   "cell_type": "markdown",
   "id": "314bd884",
   "metadata": {},
   "source": [
    "1. An exciting new halal restaurant just opened in Greenwich, but hasn't been rated yet. The magazine has asked you to include it in your analysis. Add the following restaurant \"Penang Flavours\" to the database."
   ]
  },
  {
   "cell_type": "code",
   "execution_count": null,
   "id": "c2da7648",
   "metadata": {},
   "outputs": [],
   "source": [
    "# Create a dictionary for the new restaurant data\n",
    "# 1. Add a new halal restaurant in Greenwich\n",
    "new_restaurant = {\n",
    "    \"BusinessName\": \"New Halal Restaurant\",\n",
    "    \"LocalAuthorityDistrict\": \"Greenwich\",\n",
    "    # Add other fields as needed\n",
    "}"
   ]
  },
  {
   "cell_type": "code",
   "execution_count": null,
   "id": "a6e5cece",
   "metadata": {},
   "outputs": [],
   "source": [
    "# Insert the new restaurant into the collection\n",
    "establishments_collection.insert_one(new_restaurant)"
   ]
  },
  {
   "cell_type": "code",
   "execution_count": null,
   "id": "63bb10f9",
   "metadata": {},
   "outputs": [],
   "source": [
    "# Check that the new restaurant was inserted\n",
    "# Check that the new restaurant was inserted\n",
    "result = establishments_collection.find_one({\"BusinessName\": \"New Halal Restaurant\"})\n",
    "\n",
    "if result:\n",
    "    print(\"New restaurant found:\")\n",
    "    print(result)\n",
    "else:\n",
    "    print(\"New restaurant not found.\")\n"
   ]
  },
  {
   "cell_type": "markdown",
   "id": "0ef4395a",
   "metadata": {},
   "source": [
    "2. Find the BusinessTypeID for \"Restaurant/Cafe/Canteen\" and return only the `BusinessTypeID` and `BusinessType` fields."
   ]
  },
  {
   "cell_type": "code",
   "execution_count": null,
   "id": "93c63829",
   "metadata": {},
   "outputs": [],
   "source": [
    "# Find the BusinessTypeID for \"Restaurant/Cafe/Canteen\" and return only the BusinessTypeID and BusinessType fields\n",
    "# 2. Find the BusinessTypeID for \"Restaurant/Cafe/Canteen\"\n",
    "restaurant_type = establishments_collection.find_one({\"BusinessType\": \"Restaurant/Cafe/Canteen\"},\n",
    "                                                    {\"BusinessTypeID\": 1, \"BusinessType\": 1, \"_id\": 0})\n"
   ]
  },
  {
   "cell_type": "markdown",
   "id": "4e570caf",
   "metadata": {},
   "source": [
    "3. Update the new restaurant with the `BusinessTypeID` you found."
   ]
  },
  {
   "cell_type": "code",
   "execution_count": null,
   "id": "7f599f3d",
   "metadata": {},
   "outputs": [],
   "source": [
    "# Update the new restaurant with the correct BusinessTypeID\n",
    "# Find the BusinessTypeID for \"Restaurant/Cafe/Canteen\"\n",
    "restaurant_type = establishments_collection.find_one({\"BusinessType\": \"Restaurant/Cafe/Canteen\"},\n",
    "                                                    {\"BusinessTypeID\": 1, \"BusinessType\": 1, \"_id\": 0})\n",
    "\n",
    "if restaurant_type:\n",
    "    # Update the new restaurant with the correct BusinessTypeID\n",
    "    establishments_collection.update_one({\"BusinessName\": \"New Halal Restaurant\"},\n",
    "                                         {\"$set\": {\"BusinessTypeID\": restaurant_type[\"BusinessTypeID\"]}})\n",
    "    print(\"Update successful.\")\n",
    "else:\n",
    "    print(\"BusinessTypeID not found for 'Restaurant/Cafe/Canteen'. Please check your data.\")\n"
   ]
  },
  {
   "cell_type": "code",
   "execution_count": null,
   "id": "a6ad16f7",
   "metadata": {},
   "outputs": [],
   "source": [
    "# Confirm that the new restaurant was updated\n",
    "\n",
    "updated_restaurant = establishments_collection.find_one({\"BusinessName\": \"New Halal Restaurant\"})\n",
    "\n",
    "if updated_restaurant and \"BusinessTypeID\" in updated_restaurant:\n",
    "    print(\"New restaurant updated successfully:\")\n",
    "    print(updated_restaurant)\n",
    "else:\n",
    "    print(\"New restaurant update failed.\")\n"
   ]
  },
  {
   "cell_type": "markdown",
   "id": "67281254",
   "metadata": {},
   "source": [
    "4. The magazine is not interested in any establishments in Dover, so check how many documents contain the Dover Local Authority. Then, remove any establishments within the Dover Local Authority from the database, and check the number of documents to ensure they were deleted."
   ]
  },
  {
   "cell_type": "code",
   "execution_count": null,
   "id": "768474a6",
   "metadata": {},
   "outputs": [],
   "source": [
    "# Find how many documents have LocalAuthorityName as \"Dover\"\n",
    "# 4. Remove establishments in Dover Local Authority\n",
    "num_documents_before = establishments_collection.count_documents({\"LocalAuthorityDistrict\": \"Dover\"})\n",
    "\n"
   ]
  },
  {
   "cell_type": "code",
   "execution_count": null,
   "id": "a11d5f1b",
   "metadata": {},
   "outputs": [],
   "source": [
    "# Delete all documents where LocalAuthorityName is \"Dover\"\n",
    "establishments_collection.delete_many({\"LocalAuthorityDistrict\": \"Dover\"})"
   ]
  },
  {
   "cell_type": "code",
   "execution_count": null,
   "id": "2a51aba0",
   "metadata": {},
   "outputs": [],
   "source": [
    "# Check if any remaining documents include Dover\n",
    "num_documents_after = establishments_collection.count_documents({})\n"
   ]
  },
  {
   "cell_type": "code",
   "execution_count": null,
   "id": "8c356f7b",
   "metadata": {},
   "outputs": [],
   "source": [
    "# Check that other documents remain with 'find_one'\n",
    "# Check another document to ensure it remains unchanged\n",
    "sample_document = establishments_collection.find_one({\"SomeField\": \"SomeValue\"})\n",
    "\n",
    "if sample_document:\n",
    "    print(\"Sample document found:\")\n",
    "    print(sample_document)\n",
    "else:\n",
    "    print(\"Sample document not found.\")\n"
   ]
  },
  {
   "cell_type": "markdown",
   "id": "e9f1662d",
   "metadata": {},
   "source": [
    "5. Some of the number values are stored as strings, when they should be stored as numbers."
   ]
  },
  {
   "cell_type": "markdown",
   "id": "c46df2df",
   "metadata": {},
   "source": [
    "Use `update_many` to convert `latitude` and `longitude` to decimal numbers."
   ]
  },
  {
   "cell_type": "code",
   "execution_count": null,
   "id": "fd4112ce",
   "metadata": {},
   "outputs": [],
   "source": [
    "# Change the data type from String to Decimal for longitude and latitude\n",
    "# 5. Convert latitude and longitude to decimal numbers\n",
    "establishments_collection.update_many({}, {\n",
    "    \"$set\": {\n",
    "        \"Latitude\": {\"$toDouble\": \"$Latitude\"},\n",
    "        \"Longitude\": {\"$toDouble\": \"$Longitude\"}\n",
    "    }\n",
    "})"
   ]
  },
  {
   "cell_type": "markdown",
   "id": "142e319c",
   "metadata": {},
   "source": [
    "Use `update_many` to convert `RatingValue` to integer numbers."
   ]
  },
  {
   "cell_type": "code",
   "execution_count": null,
   "id": "04430a5b",
   "metadata": {},
   "outputs": [],
   "source": [
    "# Set non 1-5 Rating Values to Null\n",
    "non_ratings = [\"AwaitingInspection\", \"Awaiting Inspection\", \"AwaitingPublication\", \"Pass\", \"Exempt\"]\n",
    "establishments.update_many({\"RatingValue\": {\"$in\": non_ratings}}, [ {'$set':{ \"RatingValue\" : None}} ])"
   ]
  },
  {
   "cell_type": "code",
   "execution_count": null,
   "id": "92524ccc",
   "metadata": {},
   "outputs": [],
   "source": [
    "# Change the data type from String to Integer for RatingValue\n",
    "establishments_collection.update_many({}, {\n",
    "    \"$set\": {\n",
    "        \"RatingValue\": {\"$toInt\": \"$RatingValue\"}\n",
    "    }\n",
    "})"
   ]
  },
  {
   "cell_type": "code",
   "execution_count": null,
   "id": "0deacaf9",
   "metadata": {},
   "outputs": [],
   "source": [
    "# Check that the coordinates and rating value are now numbers\n",
    "# Check that the coordinates and rating value are now numbers\n",
    "sample_document_after_conversion = establishments_collection.find_one({\"BusinessName\": \"New Halal Restaurant\"})\n",
    "\n",
    "if sample_document_after_conversion:\n",
    "    latitude = sample_document_after_conversion.get(\"Latitude\")\n",
    "    longitude = sample_document_after_conversion.get(\"Longitude\")\n",
    "    rating_value = sample_document_after_conversion.get(\"RatingValue\")\n",
    "\n",
    "    print(\"Sample document after conversion:\")\n",
    "    print(f\"Latitude: {latitude}, Type: {type(latitude)}\")\n",
    "    print(f\"Longitude: {longitude}, Type: {type(longitude)}\")\n",
    "    print(f\"RatingValue: {rating_value}, Type: {type(rating_value)}\")\n",
    "else:\n",
    "    print(\"Sample document not found.\")\n"
   ]
  },
  {
   "cell_type": "code",
   "execution_count": null,
   "id": "a4beafa1",
   "metadata": {},
   "outputs": [],
   "source": []
  }
 ],
 "metadata": {
  "kernelspec": {
   "display_name": "Python 3 (ipykernel)",
   "language": "python",
   "name": "python3"
  },
  "language_info": {
   "codemirror_mode": {
    "name": "ipython",
    "version": 3
   },
   "file_extension": ".py",
   "mimetype": "text/x-python",
   "name": "python",
   "nbconvert_exporter": "python",
   "pygments_lexer": "ipython3",
   "version": "3.11.3"
  }
 },
 "nbformat": 4,
 "nbformat_minor": 5
}
